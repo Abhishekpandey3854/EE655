{
 "cells": [
  {
   "cell_type": "code",
   "execution_count": 1,
   "metadata": {},
   "outputs": [],
   "source": [
    "import numpy"
   ]
  },
  {
   "cell_type": "code",
   "execution_count": 2,
   "metadata": {
    "_cell_guid": "b1076dfc-b9ad-4769-8c92-a6c4dae69d19",
    "_uuid": "8f2839f25d086af736a60e9eeb907d3b93b6e0e5",
    "execution": {
     "iopub.execute_input": "2025-04-11T17:20:47.163908Z",
     "iopub.status.busy": "2025-04-11T17:20:47.163517Z",
     "iopub.status.idle": "2025-04-11T17:20:47.593701Z",
     "shell.execute_reply": "2025-04-11T17:20:47.592520Z",
     "shell.execute_reply.started": "2025-04-11T17:20:47.163837Z"
    },
    "trusted": true
   },
   "outputs": [
    {
     "name": "stdout",
     "output_type": "stream",
     "text": [
      "/kaggle/input/image-video/q5/denis_walk.avi\n",
      "/kaggle/input/image-video/q5/bg.png\n"
     ]
    }
   ],
   "source": [
    "#Abhishek Pandey(210042)\n",
    "\n",
    "import numpy as np # linear algebra\n",
    "import pandas as pd # data processing, CSV file I/O (e.g. pd.read_csv)\n",
    "import os\n",
    "for dirname, _, filenames in os.walk('/kaggle/input'):\n",
    "    for filename in filenames:\n",
    "        print(os.path.join(dirname, filename))\n"
   ]
  },
  {
   "cell_type": "code",
   "execution_count": 3,
   "metadata": {
    "execution": {
     "iopub.execute_input": "2025-04-11T17:20:50.784286Z",
     "iopub.status.busy": "2025-04-11T17:20:50.783753Z",
     "iopub.status.idle": "2025-04-11T17:20:57.373500Z",
     "shell.execute_reply": "2025-04-11T17:20:57.372370Z",
     "shell.execute_reply.started": "2025-04-11T17:20:50.784252Z"
    },
    "trusted": true
   },
   "outputs": [],
   "source": [
    "## Importing the libraries required\n",
    "import torch\n",
    "from torchvision import datasets, transforms\n",
    "import numpy as np\n",
    "import cv2\n",
    "import random\n",
    "import matplotlib.pyplot as plt\n",
    "from torch.utils.data import Dataset, DataLoader\n",
    "from tqdm import tqdm\n",
    "import torch.nn as nn\n",
    "import torch.nn.functional as F\n",
    "from sklearn.model_selection import train_test_split\n",
    "from torch.utils.data import DataLoader\n",
    "from sklearn.metrics import jaccard_score #pre-implemented IoU metric"
   ]
  },
  {
   "cell_type": "markdown",
   "metadata": {},
   "source": [
    "## Question 1"
   ]
  },
  {
   "cell_type": "code",
   "execution_count": 4,
   "metadata": {
    "execution": {
     "iopub.execute_input": "2025-04-11T17:21:02.004350Z",
     "iopub.status.busy": "2025-04-11T17:21:02.003789Z",
     "iopub.status.idle": "2025-04-11T17:21:07.145094Z",
     "shell.execute_reply": "2025-04-11T17:21:07.143802Z",
     "shell.execute_reply.started": "2025-04-11T17:21:02.004318Z"
    },
    "trusted": true
   },
   "outputs": [
    {
     "name": "stdout",
     "output_type": "stream",
     "text": [
      "Downloading http://yann.lecun.com/exdb/mnist/train-images-idx3-ubyte.gz\n",
      "Failed to download (trying next):\n",
      "HTTP Error 404: Not Found\n",
      "\n",
      "Downloading https://ossci-datasets.s3.amazonaws.com/mnist/train-images-idx3-ubyte.gz\n",
      "Downloading https://ossci-datasets.s3.amazonaws.com/mnist/train-images-idx3-ubyte.gz to ./data/MNIST/raw/train-images-idx3-ubyte.gz\n"
     ]
    },
    {
     "name": "stderr",
     "output_type": "stream",
     "text": [
      "100%|██████████| 9.91M/9.91M [00:00<00:00, 12.8MB/s]\n"
     ]
    },
    {
     "name": "stdout",
     "output_type": "stream",
     "text": [
      "Extracting ./data/MNIST/raw/train-images-idx3-ubyte.gz to ./data/MNIST/raw\n",
      "\n",
      "Downloading http://yann.lecun.com/exdb/mnist/train-labels-idx1-ubyte.gz\n",
      "Failed to download (trying next):\n",
      "HTTP Error 404: Not Found\n",
      "\n",
      "Downloading https://ossci-datasets.s3.amazonaws.com/mnist/train-labels-idx1-ubyte.gz\n",
      "Downloading https://ossci-datasets.s3.amazonaws.com/mnist/train-labels-idx1-ubyte.gz to ./data/MNIST/raw/train-labels-idx1-ubyte.gz\n"
     ]
    },
    {
     "name": "stderr",
     "output_type": "stream",
     "text": [
      "100%|██████████| 28.9k/28.9k [00:00<00:00, 340kB/s]\n"
     ]
    },
    {
     "name": "stdout",
     "output_type": "stream",
     "text": [
      "Extracting ./data/MNIST/raw/train-labels-idx1-ubyte.gz to ./data/MNIST/raw\n",
      "\n",
      "Downloading http://yann.lecun.com/exdb/mnist/t10k-images-idx3-ubyte.gz\n",
      "Failed to download (trying next):\n",
      "HTTP Error 404: Not Found\n",
      "\n",
      "Downloading https://ossci-datasets.s3.amazonaws.com/mnist/t10k-images-idx3-ubyte.gz\n",
      "Downloading https://ossci-datasets.s3.amazonaws.com/mnist/t10k-images-idx3-ubyte.gz to ./data/MNIST/raw/t10k-images-idx3-ubyte.gz\n"
     ]
    },
    {
     "name": "stderr",
     "output_type": "stream",
     "text": [
      "100%|██████████| 1.65M/1.65M [00:00<00:00, 3.22MB/s]\n"
     ]
    },
    {
     "name": "stdout",
     "output_type": "stream",
     "text": [
      "Extracting ./data/MNIST/raw/t10k-images-idx3-ubyte.gz to ./data/MNIST/raw\n",
      "\n",
      "Downloading http://yann.lecun.com/exdb/mnist/t10k-labels-idx1-ubyte.gz\n",
      "Failed to download (trying next):\n",
      "HTTP Error 404: Not Found\n",
      "\n",
      "Downloading https://ossci-datasets.s3.amazonaws.com/mnist/t10k-labels-idx1-ubyte.gz\n",
      "Downloading https://ossci-datasets.s3.amazonaws.com/mnist/t10k-labels-idx1-ubyte.gz to ./data/MNIST/raw/t10k-labels-idx1-ubyte.gz\n"
     ]
    },
    {
     "name": "stderr",
     "output_type": "stream",
     "text": [
      "100%|██████████| 4.54k/4.54k [00:00<00:00, 5.76MB/s]"
     ]
    },
    {
     "name": "stdout",
     "output_type": "stream",
     "text": [
      "Extracting ./data/MNIST/raw/t10k-labels-idx1-ubyte.gz to ./data/MNIST/raw\n",
      "\n"
     ]
    },
    {
     "name": "stderr",
     "output_type": "stream",
     "text": [
      "\n"
     ]
    }
   ],
   "source": [
    "# Loading MNIST dataset using PyTorch\n",
    "transform = transforms.Compose([transforms.ToTensor(), transforms.Normalize((0.5,), (0.5,))])\n",
    "mnist_train = datasets.MNIST(root='./data', train=True, download=True, transform=transform)"
   ]
  },
  {
   "cell_type": "code",
   "execution_count": 5,
   "metadata": {
    "execution": {
     "iopub.execute_input": "2025-04-11T17:21:12.514745Z",
     "iopub.status.busy": "2025-04-11T17:21:12.514372Z",
     "iopub.status.idle": "2025-04-11T17:21:12.524146Z",
     "shell.execute_reply": "2025-04-11T17:21:12.522089Z",
     "shell.execute_reply.started": "2025-04-11T17:21:12.514716Z"
    },
    "trusted": true
   },
   "outputs": [],
   "source": [
    "# Converting the dataset to numpy arrays for processing\n",
    "images = mnist_train.data.numpy()  \n",
    "labels = mnist_train.targets.numpy() \n"
   ]
  },
  {
   "cell_type": "code",
   "execution_count": null,
   "metadata": {
    "execution": {
     "iopub.execute_input": "2025-04-11T17:21:15.197519Z",
     "iopub.status.busy": "2025-04-11T17:21:15.197155Z",
     "iopub.status.idle": "2025-04-11T17:21:15.702727Z",
     "shell.execute_reply": "2025-04-11T17:21:15.701656Z",
     "shell.execute_reply.started": "2025-04-11T17:21:15.197492Z"
    },
    "trusted": true
   },
   "outputs": [],
   "source": [
    "# Task (a): Obtaining the Foreground Segmentation Masks Using Otsu Thresholding\n",
    "def get_foreground_masks(images):\n",
    "    masks = []\n",
    "    for img in images:\n",
    "        _, mask = cv2.threshold(img, 0, 255, cv2.THRESH_BINARY + cv2.THRESH_OTSU) # Using Otsu's method for thresholding\n",
    "        masks.append(mask)\n",
    "    return np.array(masks)\n",
    "\n",
    "foreground_masks = get_foreground_masks(images)"
   ]
  },
  {
   "cell_type": "code",
   "execution_count": 7,
   "metadata": {
    "execution": {
     "iopub.execute_input": "2025-04-11T17:21:21.338245Z",
     "iopub.status.busy": "2025-04-11T17:21:21.337896Z",
     "iopub.status.idle": "2025-04-11T17:21:21.723756Z",
     "shell.execute_reply": "2025-04-11T17:21:21.722467Z",
     "shell.execute_reply.started": "2025-04-11T17:21:21.338219Z"
    },
    "trusted": true
   },
   "outputs": [
    {
     "data": {
      "image/png": "[encoded data removed]",
      "text/plain": [
       "<Figure size 800x400 with 4 Axes>"
      ]
     },
     "metadata": {},
     "output_type": "display_data"
    }
   ],
   "source": [
    "# Displaying the first 2 images and their foreground masks\n",
    "plt.figure(figsize=(8, 4))\n",
    "\n",
    "for i in range(2):\n",
    "    # Original Images\n",
    "    plt.subplot(2, 2, 2 * i + 1)\n",
    "    plt.imshow(images[i], cmap='gray')\n",
    "    plt.title(f\"Original Image {i}\")\n",
    "    plt.axis('off')\n",
    "    \n",
    "    # Foreground Masks\n",
    "    plt.subplot(2, 2, 2 * i + 2)\n",
    "    plt.imshow(foreground_masks[i], cmap='gray')\n",
    "    plt.title(f\"Foreground Mask {i}\")\n",
    "    plt.axis('off')\n",
    "\n",
    "plt.tight_layout()\n",
    "plt.show()"
   ]
  },
  {
   "cell_type": "code",
   "execution_count": null,
   "metadata": {
    "execution": {
     "iopub.execute_input": "2025-04-11T17:24:48.160304Z",
     "iopub.status.busy": "2025-04-11T17:24:48.159925Z",
     "iopub.status.idle": "2025-04-11T17:24:49.668109Z",
     "shell.execute_reply": "2025-04-11T17:24:49.666888Z",
     "shell.execute_reply.started": "2025-04-11T17:24:48.160277Z"
    },
    "trusted": true
   },
   "outputs": [
    {
     "name": "stderr",
     "output_type": "stream",
     "text": [
      "100%|██████████| 60000/60000 [00:01<00:00, 40101.36it/s]\n"
     ]
    }
   ],
   "source": [
    "# Task (b): Obtaining the Tight Ground Truth Circles Around Foreground Masks\n",
    "circle_images = []\n",
    "\n",
    "for mask in tqdm(foreground_masks):\n",
    "    contours, _ = cv2.findContours(mask, cv2.RETR_EXTERNAL, cv2.CHAIN_APPROX_SIMPLE)  # Find contours in the mask\n",
    "    # If contours are found, drawing the minimum enclosing circle\n",
    "    if contours:\n",
    "        c = max(contours, key=cv2.contourArea)\n",
    "        (x, y), radius = cv2.minEnclosingCircle(c)\n",
    "        circle_mask = np.zeros_like(mask)\n",
    "        cv2.circle(circle_mask, (int(x), int(y)), int(radius), 255, -1)\n",
    "        circle_images.append(circle_mask)\n",
    "    else:\n",
    "        circle_images.append(np.zeros_like(mask)) # If no contours, appending an empty mask\n"
   ]
  },
  {
   "cell_type": "code",
   "execution_count": 10,
   "metadata": {
    "execution": {
     "iopub.execute_input": "2025-04-11T17:24:53.224577Z",
     "iopub.status.busy": "2025-04-11T17:24:53.224236Z",
     "iopub.status.idle": "2025-04-11T17:24:53.579442Z",
     "shell.execute_reply": "2025-04-11T17:24:53.578367Z",
     "shell.execute_reply.started": "2025-04-11T17:24:53.224553Z"
    },
    "trusted": true
   },
   "outputs": [
    {
     "data": {
      "image/png": "[encoded data removed]",
      "text/plain": [
       "<Figure size 800x400 with 4 Axes>"
      ]
     },
     "metadata": {},
     "output_type": "display_data"
    }
   ],
   "source": [
    "\n",
    "# Converting the circle_images to NumPy array\n",
    "circle_images = np.array(circle_images)\n",
    "\n",
    "# Displaying first 2 samples: original image and circular mask\n",
    "plt.figure(figsize=(8, 4))\n",
    "\n",
    "for i in range(2):\n",
    "    # Original Image\n",
    "    plt.subplot(2, 2, 2 * i + 1)\n",
    "    plt.imshow(images[i], cmap='gray')\n",
    "    plt.title(f\"Original Image {i}\")\n",
    "    plt.axis('off')\n",
    "    \n",
    "    # Circular Mask\n",
    "    plt.subplot(2, 2, 2 * i + 2)\n",
    "    plt.imshow(circle_images[i], cmap='gray')\n",
    "    plt.title(f\"Circular Mask {i}\")\n",
    "    plt.axis('off')\n",
    "\n",
    "plt.tight_layout()\n",
    "plt.show()\n"
   ]
  },
  {
   "cell_type": "code",
   "execution_count": null,
   "metadata": {
    "execution": {
     "iopub.execute_input": "2025-04-10T13:37:13.429011Z",
     "iopub.status.busy": "2025-04-10T13:37:13.428772Z",
     "iopub.status.idle": "2025-04-10T13:37:14.023958Z",
     "shell.execute_reply": "2025-04-10T13:37:14.023033Z",
     "shell.execute_reply.started": "2025-04-10T13:37:13.428990Z"
    },
    "trusted": true
   },
   "outputs": [],
   "source": [
    "# Task (c): Spatially Concatenating Randomly Chosen Images and Masks in a 2x2 Grid\n",
    "def create_concatenated_images(images, masks):\n",
    "    concatenated_images = []\n",
    "    concatenated_masks = []\n",
    "    for _ in range(len(images) // 4):\n",
    "        indices = random.sample(range(len(images)), 4)  # Randomly pick 4 images\n",
    "        imgs = [images[i] for i in indices]\n",
    "        msks = [masks[i] for i in indices]\n",
    "        \n",
    "        # Creating the 2x2 grid of images and masks\n",
    "        img_grid = np.vstack([np.hstack(imgs[:2]), np.hstack(imgs[2:])])\n",
    "        mask_grid = np.vstack([np.hstack(msks[:2]), np.hstack(msks[2:])])\n",
    "        \n",
    "        concatenated_images.append(img_grid)\n",
    "        concatenated_masks.append(mask_grid)\n",
    "    \n",
    "    return concatenated_images, concatenated_masks\n",
    "\n",
    "concatenated_images, concatenated_masks = create_concatenated_images(images, foreground_masks)"
   ]
  },
  {
   "cell_type": "code",
   "execution_count": 12,
   "metadata": {
    "execution": {
     "iopub.execute_input": "2025-04-10T13:37:14.025066Z",
     "iopub.status.busy": "2025-04-10T13:37:14.024841Z",
     "iopub.status.idle": "2025-04-10T13:37:14.317889Z",
     "shell.execute_reply": "2025-04-10T13:37:14.317086Z",
     "shell.execute_reply.started": "2025-04-10T13:37:14.025048Z"
    },
    "trusted": true
   },
   "outputs": [
    {
     "data": {
      "image/png": "[encoded data removed]",
      "text/plain": [
       "<Figure size 1000x500 with 2 Axes>"
      ]
     },
     "metadata": {},
     "output_type": "display_data"
    }
   ],
   "source": [
    "\n",
    "# Displaying one example (first image and mask) for part 3 of question\n",
    "example_image = concatenated_images[0]  # Remove channel dimension\n",
    "example_mask = concatenated_masks[0]    # Remove channel dimension\n",
    "\n",
    "# Plotting the image and mask\n",
    "plt.figure(figsize=(10, 5))\n",
    "\n",
    "plt.subplot(1, 2, 1)\n",
    "plt.title(\"Concatenated Image\")\n",
    "plt.imshow(example_image, cmap='gray')\n",
    "plt.axis('off')\n",
    "\n",
    "plt.subplot(1, 2, 2)\n",
    "plt.title(\"Corresponding Mask\")\n",
    "plt.imshow(example_mask, cmap='gray')\n",
    "plt.axis('off')\n",
    "\n",
    "plt.show()"
   ]
  },
  {
   "cell_type": "markdown",
   "metadata": {},
   "source": [
    "## Question 2"
   ]
  },
  {
   "cell_type": "code",
   "execution_count": null,
   "metadata": {
    "execution": {
     "iopub.execute_input": "2025-04-11T07:32:00.280959Z",
     "iopub.status.busy": "2025-04-11T07:32:00.280609Z",
     "iopub.status.idle": "2025-04-11T07:32:00.290677Z",
     "shell.execute_reply": "2025-04-11T07:32:00.289959Z",
     "shell.execute_reply.started": "2025-04-11T07:32:00.280932Z"
    },
    "trusted": true
   },
   "outputs": [],
   "source": [
    "## Defining the Dataset to store the data for training\n",
    "\n",
    "class ForegroundSegmentationDataset(Dataset):\n",
    "    def __init__(self, images, masks, transform=None):\n",
    "        self.images = images\n",
    "        self.masks = masks\n",
    "        self.transform = transform\n",
    "\n",
    "    def __len__(self):\n",
    "        return len(self.images)\n",
    "\n",
    "    def __getitem__(self, idx):\n",
    "        image = self.images[idx].astype('float32')/255.0    #normalising both values by dividing by 255.0 \n",
    "        mask = self.masks[idx].astype('float32')/255.0     #and converting to float32 \n",
    "        \n",
    "        if self.transform:\n",
    "            image = self.transform(image)\n",
    "            mask = self.transform(mask)\n",
    "        \n",
    "        return image, mask\n",
    "\n",
    "\n",
    "transform = transforms.Compose([\n",
    "    transforms.ToTensor()\n",
    "])\n",
    "dataset = ForegroundSegmentationDataset(images, foreground_masks, transform=transform) # Converting images and masks to pytorch dataset\n",
    "\n",
    "# Splitting the data into training and test sets\n",
    "train_size = int(0.8 * len(dataset))    # 80% for training and 20% for testing\n",
    "test_size = len(dataset) - train_size\n",
    "train_dataset, test_dataset = torch.utils.data.random_split(dataset, [train_size, test_size]) \n",
    "\n",
    "train_loader = DataLoader(train_dataset, batch_size=32, shuffle=True) ## DataLoader for training set\n",
    "test_loader = DataLoader(test_dataset, batch_size=32, shuffle=False)  ## DataLoader for testing set\n"
   ]
  },
  {
   "cell_type": "code",
   "execution_count": null,
   "metadata": {
    "execution": {
     "iopub.execute_input": "2025-04-11T07:32:05.198523Z",
     "iopub.status.busy": "2025-04-11T07:32:05.198245Z",
     "iopub.status.idle": "2025-04-11T07:32:05.203966Z",
     "shell.execute_reply": "2025-04-11T07:32:05.203139Z",
     "shell.execute_reply.started": "2025-04-11T07:32:05.198501Z"
    },
    "trusted": true
   },
   "outputs": [],
   "source": [
    "\n",
    "##Defining the SimpleUnet architecture for model\n",
    "class SimpleUNet(nn.Module):\n",
    "    def __init__(self):\n",
    "        super().__init__()\n",
    "        self.enc1 = nn.Sequential(nn.Conv2d(1, 16, 3, padding=1), nn.ReLU(), nn.MaxPool2d(2)) # First encoder layer\n",
    "        self.enc2 = nn.Sequential(nn.Conv2d(16, 32, 3, padding=1), nn.ReLU(), nn.MaxPool2d(2)) # Second encoder layer\n",
    "\n",
    "        self.dec1 = nn.Sequential(nn.ConvTranspose2d(32, 16, 2, stride=2), nn.ReLU())    # First decoder layer\n",
    "        self.dec2 = nn.Sequential(nn.ConvTranspose2d(16, 1, 2, stride=2), nn.Sigmoid())  # Second decoder layer\n",
    "\n",
    "    def forward(self, x):  # Forward pass through the network\n",
    "        x1 = self.enc1(x)\n",
    "        x2 = self.enc2(x1)\n",
    "        x = self.dec1(x2)\n",
    "        x = self.dec2(x)\n",
    "        return x          # Final output of the network"
   ]
  },
  {
   "cell_type": "code",
   "execution_count": null,
   "metadata": {
    "execution": {
     "iopub.execute_input": "2025-04-11T07:32:08.629064Z",
     "iopub.status.busy": "2025-04-11T07:32:08.628749Z",
     "iopub.status.idle": "2025-04-11T07:32:54.851403Z",
     "shell.execute_reply": "2025-04-11T07:32:54.850570Z",
     "shell.execute_reply.started": "2025-04-11T07:32:08.629038Z"
    },
    "trusted": true
   },
   "outputs": [
    {
     "name": "stdout",
     "output_type": "stream",
     "text": [
      "Epoch 1, Loss: 102.7697\n",
      "Epoch 2, Loss: 52.3311\n",
      "Epoch 3, Loss: 47.7329\n",
      "Epoch 4, Loss: 44.8788\n",
      "Epoch 5, Loss: 42.7318\n",
      "Epoch 6, Loss: 40.9598\n",
      "Epoch 7, Loss: 39.4320\n",
      "Epoch 8, Loss: 38.1440\n",
      "Epoch 9, Loss: 37.0451\n",
      "Epoch 10, Loss: 36.0626\n"
     ]
    }
   ],
   "source": [
    "model = SimpleUNet()     # Defining the model\n",
    "device = torch.device(\"cuda\" if torch.cuda.is_available() else \"cpu\") #Using GPU if available\n",
    "model.to(device)\n",
    "\n",
    "optimizer = torch.optim.Adam(model.parameters(), lr=1e-3)     # Using Adam optimizer for training\n",
    "criterion = nn.BCELoss()                                     # Using the Binary Cross Entropy Loss\n",
    "\n",
    "for epoch in range(10):               # Training the model for 10 epochs\n",
    "    model.train()\n",
    "    epoch_loss = 0\n",
    "    for imgs, masks in train_loader:\n",
    "        imgs, masks = imgs.to(device), masks.to(device)\n",
    "        preds = model(imgs)                      # Forward pass through the model\n",
    "        loss = criterion(preds, masks)        ## Calculating the loss\n",
    "        optimizer.zero_grad()           \n",
    "        loss.backward()                    # Backpropagation\n",
    "        optimizer.step()\n",
    "        epoch_loss += loss.item()\n",
    "    print(f\"Epoch {epoch+1}, Loss: {epoch_loss:.4f}\")\n"
   ]
  },
  {
   "cell_type": "code",
   "execution_count": null,
   "metadata": {
    "execution": {
     "iopub.execute_input": "2025-04-11T07:38:29.741967Z",
     "iopub.status.busy": "2025-04-11T07:38:29.741611Z",
     "iopub.status.idle": "2025-04-11T07:38:35.239289Z",
     "shell.execute_reply": "2025-04-11T07:38:35.238487Z",
     "shell.execute_reply.started": "2025-04-11T07:38:29.741942Z"
    },
    "trusted": true
   },
   "outputs": [
    {
     "name": "stdout",
     "output_type": "stream",
     "text": [
      "Mean IoU: 0.9808741805573532\n"
     ]
    }
   ],
   "source": [
    "##Here I have calculated the IoU metric using the predefined sklearn jaccard similarity metric\n",
    "model.eval()\n",
    "ious = []\n",
    "with torch.no_grad():\n",
    "    for img, mask in test_loader:\n",
    "        img, mask = img.to(device), mask.to(device)\n",
    "        pred = model(img).round()       # Getting the predicted mask\n",
    "        iou = jaccard_score(mask.cpu().numpy().flatten(), pred.cpu().numpy().flatten(), average=\"micro\") #\n",
    "        ious.append(iou)                # Calculating the IoU for each batch and appending them\n",
    "\n",
    "print(\"Mean IoU:\", np.mean(ious))       # Mean IoU for the test set"
   ]
  },
  {
   "cell_type": "code",
   "execution_count": null,
   "metadata": {
    "execution": {
     "iopub.execute_input": "2025-04-11T07:33:00.269841Z",
     "iopub.status.busy": "2025-04-11T07:33:00.269501Z",
     "iopub.status.idle": "2025-04-11T07:33:00.979196Z",
     "shell.execute_reply": "2025-04-11T07:33:00.978271Z",
     "shell.execute_reply.started": "2025-04-11T07:33:00.269812Z"
    },
    "trusted": true
   },
   "outputs": [
    {
     "name": "stdout",
     "output_type": "stream",
     "text": [
      "Test IoU: 0.9311\n"
     ]
    }
   ],
   "source": [
    "#Here I have calculated the IoU metric by defining it myself\n",
    "def compute_iou(preds, targets, threshold=0.5):\n",
    "    preds = (preds > threshold).float()        # Applying threshold to predictions\n",
    "    intersection = (preds * targets).sum(dim=(1,2,3))  # Intersection between predicted and target masks\n",
    "    union = (preds + targets - preds * targets).sum(dim=(1,2,3)) # Union of predicted and target masks\n",
    "    iou = (intersection + 1e-6) / (union + 1e-6)  # Adding small value to avoid division by zero\n",
    "    return iou.mean().item()  # Mean IoU for the batch\n",
    "\n",
    "model.eval()\n",
    "total_iou = 0\n",
    "with torch.no_grad():\n",
    "    for imgs, masks in test_loader:\n",
    "        imgs, masks = imgs.to(device), masks.to(device)\n",
    "        preds = model(imgs)\n",
    "        total_iou += compute_iou(preds, masks) # Calculating IoU for each batch\n",
    "\n",
    "average_iou = total_iou / len(test_loader)   # Mean IoU for the test set\n",
    "print(f\"Test IoU: {average_iou:.4f}\")\n"
   ]
  },
  {
   "cell_type": "markdown",
   "metadata": {},
   "source": [
    "## Question 3"
   ]
  },
  {
   "cell_type": "code",
   "execution_count": null,
   "metadata": {
    "execution": {
     "iopub.execute_input": "2025-04-10T13:38:09.816783Z",
     "iopub.status.busy": "2025-04-10T13:38:09.816544Z",
     "iopub.status.idle": "2025-04-10T13:38:09.821958Z",
     "shell.execute_reply": "2025-04-10T13:38:09.821125Z",
     "shell.execute_reply.started": "2025-04-10T13:38:09.816763Z"
    },
    "trusted": true
   },
   "outputs": [],
   "source": [
    "## Definig the dataset for Q3\n",
    "class CircleClassificationDataset(Dataset):\n",
    "    def __init__(self, images, labels, circle_masks, transform=None):\n",
    "        self.images = images\n",
    "        self.labels = labels\n",
    "        self.circle_masks = circle_masks\n",
    "        self.transform = transform\n",
    "\n",
    "    def __len__(self):\n",
    "        return len(self.images)\n",
    "\n",
    "    def __getitem__(self, idx):\n",
    "        img = self.images[idx]/255.0  # Normalizing the image to [0, 1] range\n",
    "        label = self.labels[idx]\n",
    "        circle_mask = self.circle_masks[idx]/255.0  # Normalizing the mask to [0, 1] range\n",
    "\n",
    "        if self.transform:\n",
    "            img = self.transform(img)\n",
    "\n",
    "        img = torch.tensor(img, dtype=torch.float32).unsqueeze(0)\n",
    "        label = torch.tensor(label, dtype=torch.long)\n",
    "        circle_mask = torch.tensor(circle_mask, dtype=torch.float32).unsqueeze(0)\n",
    "\n",
    "        return img, label, circle_mask\n"
   ]
  },
  {
   "cell_type": "code",
   "execution_count": null,
   "metadata": {
    "execution": {
     "iopub.execute_input": "2025-04-10T13:38:09.823119Z",
     "iopub.status.busy": "2025-04-10T13:38:09.822826Z",
     "iopub.status.idle": "2025-04-10T13:38:09.840262Z",
     "shell.execute_reply": "2025-04-10T13:38:09.839649Z",
     "shell.execute_reply.started": "2025-04-10T13:38:09.823089Z"
    },
    "trusted": true
   },
   "outputs": [],
   "source": [
    "import torch\n",
    "import torch.nn as nn\n",
    "\n",
    "##It is also very similar to Unet architecture\n",
    "class CircleNet(nn.Module):\n",
    "    def __init__(self):\n",
    "        super().__init__()\n",
    "\n",
    "        # Defining the Encoder\n",
    "        self.enc1 = nn.Sequential(\n",
    "            nn.Conv2d(1, 16, 3, padding=1), nn.ReLU() # (B, 16, 28, 28)\n",
    "        )\n",
    "        self.pool1 = nn.MaxPool2d(2) # (B, 16, 14, 14)\n",
    "\n",
    "        self.enc2 = nn.Sequential(\n",
    "            nn.Conv2d(16, 32, 3, padding=1), nn.ReLU() \n",
    "        )\n",
    "        self.pool2 = nn.MaxPool2d(2)  # (B, 32, 7, 7)\n",
    "\n",
    "        # Classifier head(Used for classification task)\n",
    "        # The output of the encoder is flattened and passed through a linear layer\n",
    "        # to get the class logits.\n",
    "        self.classifier = nn.Linear(32 * 7 * 7, 10)\n",
    "\n",
    "        # Defining the Decoder\n",
    "        self.up1 = nn.ConvTranspose2d(32, 32, 2, stride=2)  \n",
    "        self.dec1 = nn.Sequential(\n",
    "            nn.Conv2d(32 + 32, 32, 3, padding=1), nn.ReLU() \n",
    "        )\n",
    "\n",
    "        self.up2 = nn.ConvTranspose2d(32, 16, 2, stride=2)  \n",
    "        self.dec2 = nn.Sequential(\n",
    "            nn.Conv2d(16 + 16, 16, 3, padding=1), nn.ReLU() \n",
    "        )\n",
    "\n",
    "        self.final_mask = nn.Conv2d(16, 1, 1) \n",
    "\n",
    "    def forward(self, x):  # Forward pass through the network\n",
    "        # Input shape: (B, 1, 28, 28)\n",
    "        # Encoding\n",
    "        x1 = self.enc1(x)             # (B, 16, 28, 28)\n",
    "        x2 = self.enc2(self.pool1(x1))# (B, 32, 14, 14)\n",
    "        feat = self.pool2(x2)         # (B, 32, 7, 7)\n",
    "\n",
    "        # Classification output\n",
    "        class_logits = self.classifier(feat.view(x.size(0), -1))\n",
    "\n",
    "        # Decoding\n",
    "        up1 = self.up1(feat)                  # (B, 32, 14, 14)\n",
    "        concat1 = torch.cat([up1, x2], dim=1) # (B, 64, 14, 14)\n",
    "        dec1 = self.dec1(concat1)             # (B, 32, 14, 14)\n",
    "\n",
    "        up2 = self.up2(dec1)                  # (B, 16, 28, 28)\n",
    "        concat2 = torch.cat([up2, x1], dim=1) # (B, 32, 28, 28)\n",
    "        dec2 = self.dec2(concat2)             # (B, 16, 28, 28)\n",
    "\n",
    "        mask_logits = self.final_mask(dec2)   # (B, 1, 28, 28)\n",
    "\n",
    "        return class_logits, mask_logits # Final output of the network\n",
    "     #model returns two outputs: class logits and mask logits\n"
   ]
  },
  {
   "cell_type": "code",
   "execution_count": null,
   "metadata": {
    "execution": {
     "iopub.execute_input": "2025-04-10T13:44:23.140290Z",
     "iopub.status.busy": "2025-04-10T13:44:23.139967Z",
     "iopub.status.idle": "2025-04-10T13:44:23.234325Z",
     "shell.execute_reply": "2025-04-10T13:44:23.233437Z",
     "shell.execute_reply.started": "2025-04-10T13:44:23.140263Z"
    },
    "trusted": true
   },
   "outputs": [],
   "source": [
    "\n",
    "##Converting the data into test and train set and defining the train and test loader\n",
    "circle_mask=np.array(circle_images)\n",
    "\n",
    "train_imgs, test_imgs, train_labels, test_labels, train_masks, test_masks = train_test_split(\n",
    "    images, labels, circle_mask, test_size=0.2, random_state=42) # Splitting the data into training and test sets\n",
    "\n",
    "train_dataset = CircleClassificationDataset(train_imgs, train_labels, train_masks) # Converting images and masks to pytorch dataset\n",
    "test_dataset = CircleClassificationDataset(test_imgs, test_labels, test_masks)\n",
    "\n",
    "train_loader = DataLoader(train_dataset, batch_size=64, shuffle=True)  # DataLoader for training set\n",
    "test_loader = DataLoader(test_dataset, batch_size=64, shuffle=False)   # DataLoader for testing set\n"
   ]
  },
  {
   "cell_type": "code",
   "execution_count": null,
   "metadata": {
    "execution": {
     "iopub.execute_input": "2025-04-10T13:44:32.298943Z",
     "iopub.status.busy": "2025-04-10T13:44:32.298659Z",
     "iopub.status.idle": "2025-04-10T13:46:11.275674Z",
     "shell.execute_reply": "2025-04-10T13:46:11.274859Z",
     "shell.execute_reply.started": "2025-04-10T13:44:32.298923Z"
    },
    "trusted": true
   },
   "outputs": [
    {
     "name": "stdout",
     "output_type": "stream",
     "text": [
      "Epoch 1/20, Loss: 264.4117\n",
      "Epoch 2/20, Loss: 207.1718\n",
      "Epoch 3/20, Loss: 195.6364\n",
      "Epoch 4/20, Loss: 188.1268\n",
      "Epoch 5/20, Loss: 182.9128\n",
      "Epoch 6/20, Loss: 179.3719\n",
      "Epoch 7/20, Loss: 176.6446\n",
      "Epoch 8/20, Loss: 174.2687\n",
      "Epoch 9/20, Loss: 172.1891\n",
      "Epoch 10/20, Loss: 170.1382\n",
      "Epoch 11/20, Loss: 168.5611\n",
      "Epoch 12/20, Loss: 167.2487\n",
      "Epoch 13/20, Loss: 165.7913\n",
      "Epoch 14/20, Loss: 164.6639\n",
      "Epoch 15/20, Loss: 163.3861\n",
      "Epoch 16/20, Loss: 162.2811\n",
      "Epoch 17/20, Loss: 161.4145\n",
      "Epoch 18/20, Loss: 160.3966\n",
      "Epoch 19/20, Loss: 159.8333\n",
      "Epoch 20/20, Loss: 158.6495\n"
     ]
    }
   ],
   "source": [
    "\n",
    "# Initializing the model\n",
    "model = CircleNet()\n",
    "device = torch.device(\"cuda\" if torch.cuda.is_available() else \"cpu\")\n",
    "model.to(device)\n",
    "\n",
    "# Loss functions\n",
    "class_criterion = nn.CrossEntropyLoss()  #loss function for classification task\n",
    "circle_criterion = nn.BCEWithLogitsLoss() # loss function for circleization task\n",
    "\n",
    "\n",
    "# Optimizer\n",
    "optimizer = torch.optim.Adam(model.parameters(), lr=0.001)\n",
    "\n",
    "# Training loop\n",
    "num_epochs = 20\n",
    "\n",
    "\n",
    "for epoch in range(num_epochs): # Training the model for 20 epochs\n",
    "    model.train()\n",
    "    train_loss = 0\n",
    "\n",
    "    for images, labels, circle_masks in train_loader:\n",
    "        images = images.to(device)\n",
    "        labels = labels.to(device)\n",
    "        circle_masks = circle_masks.to(device)\n",
    "\n",
    "        optimizer.zero_grad()\n",
    "\n",
    "        class_logits, circle_pred = model(images) # Forward pass through the model\n",
    "\n",
    "        class_loss = class_criterion(class_logits, labels) # Calculating the classification loss\n",
    "        circle_loss = circle_criterion(circle_pred, circle_masks) # Calculating the circleization loss\n",
    "\n",
    "        total_loss = class_loss + 1000 * circle_loss # Total loss is a weighted sum of classification and circleization losses\n",
    "\n",
    "        total_loss.backward() # Backpropagation\n",
    "        optimizer.step()\n",
    "\n",
    "        train_loss += total_loss.item()\n",
    "\n",
    "    print(f\"Epoch {epoch+1}/{num_epochs}, Loss: {train_loss/len(train_loader):.4f}\")\n"
   ]
  },
  {
   "cell_type": "code",
   "execution_count": null,
   "metadata": {
    "execution": {
     "iopub.execute_input": "2025-04-10T13:46:11.276968Z",
     "iopub.status.busy": "2025-04-10T13:46:11.276740Z",
     "iopub.status.idle": "2025-04-10T13:46:14.342145Z",
     "shell.execute_reply": "2025-04-10T13:46:14.341433Z",
     "shell.execute_reply.started": "2025-04-10T13:46:11.276949Z"
    },
    "trusted": true
   },
   "outputs": [
    {
     "name": "stdout",
     "output_type": "stream",
     "text": [
      "\n",
      "Test IoU (classification-aware): 0.8339\n"
     ]
    }
   ],
   "source": [
    "def compute_iou(pred_mask, true_mask, threshold=0.5): # Function to compute IoU\n",
    "    pred_bin = (pred_mask > threshold).float() # Binarizing the predicted mask\n",
    "    intersection = (pred_bin * true_mask).sum() # Intersection between predicted and true masks\n",
    "    union = ((pred_bin + true_mask) > 0).float().sum() # Union of predicted and true masks\n",
    "    return (intersection / union).item() if union != 0 else 0.0 # Avoid division by zero\n",
    "\n",
    "model.eval()\n",
    "iou_scores = []\n",
    "\n",
    "with torch.no_grad():\n",
    "    for images, labels, circle_masks in test_loader:\n",
    "        images = images.to(device)\n",
    "        labels = labels.to(device)\n",
    "        circle_masks = circle_masks.to(device)  \n",
    "\n",
    "        class_logits, circle_pred = model(images)  # Forward pass through the model\n",
    "        preds = class_logits.argmax(dim=1)         # Getting the predicted class labels\n",
    "\n",
    "        for i in range(images.size(0)):           ## Looping through each image in the batch\n",
    "            iou = 0.0\n",
    "            if preds[i] == labels[i]:            # If the predicted class matches the true class\n",
    "                # Compute IoU only for the correct predictions\n",
    "                iou = compute_iou(circle_pred[i], circle_masks[i])\n",
    "            iou_scores.append(iou)\n",
    "\n",
    "mean_iou = sum(iou_scores) / len(iou_scores)  # Mean IoU for the test set\n",
    "print(f\"\\nTest IoU (classification-aware): {mean_iou:.4f}\")\n"
   ]
  },
  {
   "cell_type": "code",
   "execution_count": 44,
   "metadata": {
    "execution": {
     "iopub.execute_input": "2025-04-10T13:46:15.208642Z",
     "iopub.status.busy": "2025-04-10T13:46:15.208372Z",
     "iopub.status.idle": "2025-04-10T13:46:15.506532Z",
     "shell.execute_reply": "2025-04-10T13:46:15.505604Z",
     "shell.execute_reply.started": "2025-04-10T13:46:15.208620Z"
    },
    "trusted": true
   },
   "outputs": [
    {
     "data": {
      "image/png": "[encoded data removed]",
      "text/plain": [
       "<Figure size 640x480 with 3 Axes>"
      ]
     },
     "metadata": {},
     "output_type": "display_data"
    }
   ],
   "source": [
    "import matplotlib.pyplot as plt\n",
    "\n",
    "model.eval()\n",
    "images, labels, true_masks = next(iter(test_loader))\n",
    "images = images.to(device)\n",
    "labels = labels.to(device)\n",
    "true_masks = true_masks.to(device)\n",
    "\n",
    "with torch.no_grad():\n",
    "    logits, pred_masks = model(images)\n",
    "    preds = logits.argmax(dim=1)\n",
    "\n",
    "i = 0  # checking first image\n",
    "plt.subplot(1, 3, 1)\n",
    "plt.title(f\"True label: {labels[i].item()}\")\n",
    "plt.imshow(images[i].cpu().squeeze(), cmap='gray')\n",
    "\n",
    "plt.subplot(1, 3, 2)\n",
    "plt.title(f\"Predicted: {preds[i].item()}\")\n",
    "plt.imshow(torch.sigmoid(pred_masks[i]).cpu().squeeze().numpy() > 0.5, cmap='gray')\n",
    "\n",
    "plt.subplot(1, 3, 3)\n",
    "plt.title(\"Ground Truth Circle Mask\")\n",
    "plt.imshow(true_masks[i].cpu().squeeze(), cmap='gray')\n",
    "plt.show()\n"
   ]
  },
  {
   "cell_type": "markdown",
   "metadata": {},
   "source": [
    "## Question 4"
   ]
  },
  {
   "cell_type": "code",
   "execution_count": null,
   "metadata": {
    "execution": {
     "iopub.execute_input": "2025-04-10T13:39:53.163515Z",
     "iopub.status.busy": "2025-04-10T13:39:53.163109Z",
     "iopub.status.idle": "2025-04-10T13:39:53.169647Z",
     "shell.execute_reply": "2025-04-10T13:39:53.168544Z",
     "shell.execute_reply.started": "2025-04-10T13:39:53.163478Z"
    },
    "trusted": true
   },
   "outputs": [],
   "source": [
    "## Dataset preparation\n",
    "\n",
    "class ConcatenatedMNISTDataset(Dataset):\n",
    "    def __init__(self, images, masks, transform=None):\n",
    "        self.images = images\n",
    "        self.masks = masks\n",
    "        self.transform = transform\n",
    "\n",
    "    def __len__(self):\n",
    "        return len(self.images)\n",
    "\n",
    "    def __getitem__(self, idx):\n",
    "        image = self.images[idx] / 255.0  # Normalizing the image to [0, 1] range\n",
    "        mask = self.masks[idx] / 255.0    # Normalizing the mask to [0, 1] range\n",
    "\n",
    "        image = torch.tensor(image, dtype=torch.float32).unsqueeze(0)  # (1, H, W)\n",
    "        mask = torch.tensor(mask, dtype=torch.float32).unsqueeze(0)    # (1, H, W)\n",
    "\n",
    "        return image, mask\n"
   ]
  },
  {
   "cell_type": "code",
   "execution_count": null,
   "metadata": {
    "execution": {
     "iopub.execute_input": "2025-04-10T13:39:53.170882Z",
     "iopub.status.busy": "2025-04-10T13:39:53.170586Z",
     "iopub.status.idle": "2025-04-10T13:39:53.188136Z",
     "shell.execute_reply": "2025-04-10T13:39:53.187440Z",
     "shell.execute_reply.started": "2025-04-10T13:39:53.170860Z"
    },
    "trusted": true
   },
   "outputs": [],
   "source": [
    "import torch\n",
    "import torch.nn as nn\n",
    "import torch.nn.functional as F\n",
    "\n",
    "class segmentation_model(nn.Module): # Segmentation model for the concatenated images\n",
    "    def __init__(self):\n",
    "        super().__init__()\n",
    "\n",
    "        # Encoder\n",
    "        self.enc1 = nn.Sequential(\n",
    "            nn.Conv2d(1, 16, kernel_size=3, padding=1),\n",
    "            nn.ReLU(),\n",
    "        )\n",
    "        self.pool1 = nn.MaxPool2d(2)  # 56x56 → 28x28\n",
    "\n",
    "        self.enc2 = nn.Sequential(\n",
    "            nn.Conv2d(16, 32, kernel_size=3, padding=1),\n",
    "            nn.ReLU(),\n",
    "        )\n",
    "        self.pool2 = nn.MaxPool2d(2)  # 28x28 → 14x14\n",
    "\n",
    "        # Bottleneck layer \n",
    "        self.bottleneck = nn.Sequential(\n",
    "            nn.Conv2d(32, 64, kernel_size=3, padding=1),\n",
    "            nn.ReLU(),\n",
    "        )\n",
    "\n",
    "        # Decoder\n",
    "        self.up1 = nn.ConvTranspose2d(64, 32, kernel_size=2, stride=2)  # 14x14 → 28x28\n",
    "        self.dec1 = nn.Sequential(\n",
    "            nn.Conv2d(64, 32, kernel_size=3, padding=1),\n",
    "            nn.ReLU(),\n",
    "        )\n",
    "\n",
    "        self.up2 = nn.ConvTranspose2d(32, 16, kernel_size=2, stride=2)  # 28x28 → 56x56\n",
    "        self.dec2 = nn.Sequential(\n",
    "            nn.Conv2d(32, 16, kernel_size=3, padding=1),\n",
    "            nn.ReLU(),\n",
    "        )\n",
    "\n",
    "        # Final output layer\n",
    "        self.final = nn.Conv2d(16, 1, kernel_size=1)\n",
    "\n",
    "    def forward(self, x):\n",
    "        # Encoder\n",
    "        x1 = self.enc1(x)         # (B, 16, 56, 56)\n",
    "        x1p = self.pool1(x1)      # (B, 16, 28, 28)\n",
    "\n",
    "        x2 = self.enc2(x1p)       # (B, 32, 28, 28)\n",
    "        x2p = self.pool2(x2)      # (B, 32, 14, 14)\n",
    "\n",
    "        # Bottleneck\n",
    "        x3 = self.bottleneck(x2p) # (B, 64, 14, 14)\n",
    "\n",
    "        # Decoder\n",
    "        up1 = self.up1(x3)        # (B, 32, 28, 28)\n",
    "        merge1 = torch.cat([up1, x2], dim=1)  # (B, 64, 28, 28)\n",
    "        dec1 = self.dec1(merge1)  # (B, 32, 28, 28)\n",
    "\n",
    "        up2 = self.up2(dec1)      # (B, 16, 56, 56)\n",
    "        merge2 = torch.cat([up2, x1], dim=1)  # (B, 32, 56, 56)\n",
    "        dec2 = self.dec2(merge2)  # (B, 16, 56, 56)\n",
    "\n",
    "        out = self.final(dec2)    # (B, 1, 56, 56)\n",
    "        return out\n"
   ]
  },
  {
   "cell_type": "code",
   "execution_count": null,
   "metadata": {
    "execution": {
     "iopub.execute_input": "2025-04-10T13:39:53.189373Z",
     "iopub.status.busy": "2025-04-10T13:39:53.188857Z",
     "iopub.status.idle": "2025-04-10T13:39:53.294299Z",
     "shell.execute_reply": "2025-04-10T13:39:53.293434Z",
     "shell.execute_reply.started": "2025-04-10T13:39:53.189325Z"
    },
    "trusted": true
   },
   "outputs": [],
   "source": [
    "concatenated_images=np.array(concatenated_images)\n",
    "concatenated_masks=np.array(concatenated_masks)    # Converting the concatenated images and masks to NumPy arrays\n",
    "# Splitting the data into training and test sets\n",
    "train_segimgs, test_segimgs, train_segmasks, test_segmasks = train_test_split(\n",
    "    concatenated_images, concatenated_masks, test_size=0.2, random_state=42)\n",
    "\n",
    "train_dataset = ConcatenatedMNISTDataset(train_segimgs, train_segmasks)  # Converting images and masks to pytorch dataset\n",
    "test_dataset = ConcatenatedMNISTDataset(test_segimgs, test_segmasks)\n",
    "\n",
    "train_loader = DataLoader(train_dataset, batch_size=16, shuffle=True)   # DataLoader for training set\n",
    "test_loader = DataLoader(test_dataset, batch_size=16, shuffle=False)    # DataLoader for testing set"
   ]
  },
  {
   "cell_type": "code",
   "execution_count": null,
   "metadata": {
    "execution": {
     "iopub.execute_input": "2025-04-10T13:39:53.295591Z",
     "iopub.status.busy": "2025-04-10T13:39:53.295316Z",
     "iopub.status.idle": "2025-04-10T13:40:28.187710Z",
     "shell.execute_reply": "2025-04-10T13:40:28.186806Z",
     "shell.execute_reply.started": "2025-04-10T13:39:53.295571Z"
    },
    "trusted": true
   },
   "outputs": [
    {
     "name": "stdout",
     "output_type": "stream",
     "text": [
      "Epoch 1, Loss: 0.0459\n",
      "Epoch 2, Loss: 0.0076\n",
      "Epoch 3, Loss: 0.0046\n",
      "Epoch 4, Loss: 0.0035\n",
      "Epoch 5, Loss: 0.0030\n",
      "Epoch 6, Loss: 0.0027\n",
      "Epoch 7, Loss: 0.0025\n",
      "Epoch 8, Loss: 0.0024\n",
      "Epoch 9, Loss: 0.0023\n",
      "Epoch 10, Loss: 0.0022\n"
     ]
    }
   ],
   "source": [
    "\n",
    "device = torch.device(\"cuda\" if torch.cuda.is_available() else \"cpu\")\n",
    "model = segmentation_model().to(device)\n",
    "criterion = nn.BCEWithLogitsLoss()   # Loss function for segmentation\n",
    "optimizer = torch.optim.Adam(model.parameters(), lr=1e-3)  # Optimizer for training\n",
    "\n",
    "# Training\n",
    "for epoch in range(10):\n",
    "    model.train()\n",
    "    total_loss = 0\n",
    "    for images, masks in train_loader:\n",
    "        images, masks = images.to(device), masks.to(device)\n",
    "        optimizer.zero_grad()\n",
    "\n",
    "        logits = model(images)  # Forward pass through the model\n",
    "        loss = criterion(logits, masks) # Calculating the loss\n",
    "        loss.backward()   # Backpropagation\n",
    "        optimizer.step()\n",
    "        total_loss += loss.item()\n",
    "\n",
    "    print(f\"Epoch {epoch+1}, Loss: {total_loss/len(train_loader):.4f}\")\n"
   ]
  },
  {
   "cell_type": "code",
   "execution_count": null,
   "metadata": {
    "execution": {
     "iopub.execute_input": "2025-04-10T13:40:28.188847Z",
     "iopub.status.busy": "2025-04-10T13:40:28.188570Z",
     "iopub.status.idle": "2025-04-10T13:40:28.192534Z",
     "shell.execute_reply": "2025-04-10T13:40:28.191838Z",
     "shell.execute_reply.started": "2025-04-10T13:40:28.188813Z"
    },
    "trusted": true
   },
   "outputs": [],
   "source": [
    "def dice_coefficient(preds, targets, threshold=0.5): # Function to compute Dice Coefficient\n",
    "    preds = (preds > threshold).float()             # Binarizing the predicted mask\n",
    "    intersection = (preds * targets).sum()          # Intersection between predicted and target masks\n",
    "    return (2. * intersection) / (preds.sum() + targets.sum() + 1e-8)  # Adding small value to avoid division by zero\n"
   ]
  },
  {
   "cell_type": "code",
   "execution_count": null,
   "metadata": {
    "execution": {
     "iopub.execute_input": "2025-04-10T13:40:28.193522Z",
     "iopub.status.busy": "2025-04-10T13:40:28.193265Z",
     "iopub.status.idle": "2025-04-10T13:40:28.624090Z",
     "shell.execute_reply": "2025-04-10T13:40:28.623406Z",
     "shell.execute_reply.started": "2025-04-10T13:40:28.193490Z"
    },
    "trusted": true
   },
   "outputs": [
    {
     "name": "stdout",
     "output_type": "stream",
     "text": [
      "Test Dice Coefficient: 0.9969\n"
     ]
    }
   ],
   "source": [
    "model.eval()  # Evaluating the model on the test set\n",
    "dice_scores = []\n",
    "\n",
    "with torch.no_grad():\n",
    "    for images, masks in test_loader:\n",
    "        images, masks = images.to(device), masks.to(device)\n",
    "        preds = torch.sigmoid(model(images))  # Getting the predicted masks\n",
    "        dice = dice_coefficient(preds, masks) # Calculating the Dice Coefficient for each batch \n",
    "        dice_scores.append(dice.item())      # Appending the Dice Coefficient to the list\n",
    "\n",
    "print(f\"Test Dice Coefficient: {sum(dice_scores)/len(dice_scores):.4f}\")\n"
   ]
  },
  {
   "cell_type": "markdown",
   "metadata": {},
   "source": [
    "## Question 5"
   ]
  },
  {
   "cell_type": "code",
   "execution_count": 12,
   "metadata": {
    "execution": {
     "iopub.execute_input": "2025-04-11T17:28:19.488224Z",
     "iopub.status.busy": "2025-04-11T17:28:19.487789Z",
     "iopub.status.idle": "2025-04-11T17:28:19.493153Z",
     "shell.execute_reply": "2025-04-11T17:28:19.491710Z",
     "shell.execute_reply.started": "2025-04-11T17:28:19.488193Z"
    },
    "trusted": true
   },
   "outputs": [],
   "source": [
    "# ---------- Parameters ----------\n",
    "video_path = '/kaggle/input/image-video/q5/denis_walk.avi'\n",
    "background_image_path = '/kaggle/input/image-video/q5/bg.png'\n",
    "output_path = 'output_video.avi'\n"
   ]
  },
  {
   "cell_type": "code",
   "execution_count": 13,
   "metadata": {
    "execution": {
     "iopub.execute_input": "2025-04-11T17:28:20.834478Z",
     "iopub.status.busy": "2025-04-11T17:28:20.834106Z",
     "iopub.status.idle": "2025-04-11T17:28:20.839166Z",
     "shell.execute_reply": "2025-04-11T17:28:20.838022Z",
     "shell.execute_reply.started": "2025-04-11T17:28:20.834451Z"
    },
    "trusted": true
   },
   "outputs": [],
   "source": [
    "import matplotlib.pyplot as plt\n",
    "from IPython.display import display, clear_output"
   ]
  },
  {
   "cell_type": "code",
   "execution_count": null,
   "metadata": {
    "execution": {
     "iopub.execute_input": "2025-04-11T17:28:23.334413Z",
     "iopub.status.busy": "2025-04-11T17:28:23.334011Z",
     "iopub.status.idle": "2025-04-11T17:28:23.617622Z",
     "shell.execute_reply": "2025-04-11T17:28:23.616432Z",
     "shell.execute_reply.started": "2025-04-11T17:28:23.334382Z"
    },
    "trusted": true
   },
   "outputs": [
    {
     "name": "stdout",
     "output_type": "stream",
     "text": [
      "✅ Done! Final video saved as: output_video.avi\n"
     ]
    }
   ],
   "source": [
    "\n",
    "# ---------- Parameters ----------\n",
    "\n",
    "background_estimation_frames = 30\n",
    "diff_threshold = 25  # Lowered threshold to capture subtle differences\n",
    "min_contour_area = 500  # Removing small blobs (noise)\n",
    "frames_to_display = 5\n",
    "\n",
    "# ---------- Loading Video and Background ----------\n",
    "cap = cv2.VideoCapture(video_path)\n",
    "if not cap.isOpened():\n",
    "    raise Exception(\"Error opening video!\")\n",
    "\n",
    "frame_width = int(cap.get(cv2.CAP_PROP_FRAME_WIDTH))\n",
    "frame_height = int(cap.get(cv2.CAP_PROP_FRAME_HEIGHT))\n",
    "fps = cap.get(cv2.CAP_PROP_FPS)\n",
    "\n",
    "# Loading and resizing new background\n",
    "new_background = cv2.imread(background_image_path)\n",
    "new_background = cv2.resize(new_background, (frame_width, frame_height))\n",
    "\n",
    "# ---------- Step 1: Estimating the Background ----------\n",
    "background_accum = np.zeros((frame_height, frame_width, 3), dtype=np.float32) # Accumulator for background\n",
    "# Reading the first few frames to estimate the background\n",
    "cap.set(cv2.CAP_PROP_POS_FRAMES, 0)\n",
    "\n",
    "for i in range(background_estimation_frames):\n",
    "    ret, frame = cap.read()\n",
    "    if not ret:\n",
    "        break\n",
    "    background_accum += frame.astype(np.float32)      # Accumulating the frames\n",
    "\n",
    "static_background = (background_accum / background_estimation_frames).astype(np.uint8) # Average background\n",
    "\n",
    "# ---------- Resetting the Video ----------\n",
    "cap.set(cv2.CAP_PROP_POS_FRAMES, 0) # Resetting to the start of the video\n",
    "out = cv2.VideoWriter(output_path, cv2.VideoWriter_fourcc(*'XVID'), fps, (frame_width, frame_height)) # Output video writer\n",
    "\n",
    "\n",
    "\n",
    "# ---------- Processing the Frames ----------\n",
    "while True:\n",
    "    ret, frame = cap.read()\n",
    "    if not ret:\n",
    "        break\n",
    "\n",
    "    # Getting diff and grayscale\n",
    "    diff = cv2.absdiff(frame, static_background)\n",
    "    diff_gray = cv2.cvtColor(diff, cv2.COLOR_BGR2GRAY)\n",
    "\n",
    "    # Threshold to get rough foreground mask\n",
    "    _, mask = cv2.threshold(diff_gray, diff_threshold, 255, cv2.THRESH_BINARY)\n",
    "\n",
    "    # Morphological filtering\n",
    "    kernel = cv2.getStructuringElement(cv2.MORPH_ELLIPSE, (5, 5))  # Structuring element for morphological operations\n",
    "    mask = cv2.morphologyEx(mask, cv2.MORPH_CLOSE, kernel, iterations=2) #  Closing to fill gaps\n",
    "    mask = cv2.morphologyEx(mask, cv2.MORPH_OPEN, kernel, iterations=1) # Opening to remove noise\n",
    "    mask = cv2.dilate(mask, kernel, iterations=3)  # Dilation to enhance the foreground\n",
    "    mask = cv2.erode(mask, kernel, iterations=2)   # Erosion to reduce noise\n",
    "\n",
    "    # Filtering out small blobs (non-human)\n",
    "    contours, _ = cv2.findContours(mask, cv2.RETR_EXTERNAL, cv2.CHAIN_APPROX_SIMPLE) # Finding contours in the mask\n",
    "    refined_mask = np.zeros_like(mask)  # Creating a refined mask\n",
    "    for cnt in contours: # Looping through each contour\n",
    "        if cv2.contourArea(cnt) > min_contour_area:     # Filtering based on area\n",
    "            cv2.drawContours(refined_mask, [cnt], -1, 255, -1)\n",
    "\n",
    "    # Converting to 3-channel mask\n",
    "    mask_3ch = cv2.merge([refined_mask] * 3)\n",
    "    inv_mask = cv2.bitwise_not(mask_3ch)\n",
    "\n",
    "    # Composite\n",
    "    foreground = cv2.bitwise_and(frame, mask_3ch)  # Foreground extraction\n",
    "    background = cv2.bitwise_and(new_background, inv_mask) # Background replacement\n",
    "    final_frame = cv2.add(foreground, background)  # Final composite frame\n",
    "\n",
    "    out.write(final_frame)\n",
    "\n",
    "\n",
    "cap.release()\n",
    "out.release()\n",
    "print(\"✅ Done! Final video saved as:\", output_path)\n",
    "\n"
   ]
  }
 ],
 "metadata": {
  "kaggle": {
   "accelerator": "none",
   "dataSources": [
    {
     "datasetId": 7048277,
     "sourceId": 11274521,
     "sourceType": "datasetVersion"
    }
   ],
   "dockerImageVersionId": 30918,
   "isGpuEnabled": false,
   "isInternetEnabled": true,
   "language": "python",
   "sourceType": "notebook"
  },
  "kernelspec": {
   "display_name": "Python 3",
   "language": "python",
   "name": "python3"
  },
  "language_info": {
   "codemirror_mode": {
    "name": "ipython",
    "version": 3
   },
   "file_extension": ".py",
   "mimetype": "text/x-python",
   "name": "python",
   "nbconvert_exporter": "python",
   "pygments_lexer": "ipython3",
   "version": "3.10.6"
  }
 },
 "nbformat": 4,
 "nbformat_minor": 4
}
